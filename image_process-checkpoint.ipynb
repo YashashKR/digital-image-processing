{
 "cells": [
  {
   "cell_type": "code",
   "execution_count": 1,
   "id": "c3eed735-0b11-4154-ae49-abb209dd3337",
   "metadata": {},
   "outputs": [],
   "source": [
    "from PIL import Image\n",
    "\n",
    "# Load the image\n",
    "image_path =r'C:\\Users\\Yashuyashash\\panda.jpg'   # Replace with your image path\n",
    "image = Image.open(image_path)\n",
    "\n",
    "# Convert the image to grayscale\n",
    "gray_image = image.convert('L')\n",
    "\n",
    "# Save the grayscale image\n",
    "gray_image.save('gray_image.jpg')\n",
    "\n",
    "# Show the grayscale image\n",
    "gray_image.show()\n"
   ]
  },
  {
   "cell_type": "code",
   "execution_count": 3,
   "id": "22ecac0b-decf-43d2-a84f-409291a83d26",
   "metadata": {},
   "outputs": [],
   "source": [
    "from PIL import Image, ImageOps\n",
    "\n",
    "# Load the image\n",
    "image_path = r'C:\\Users\\Yashuyashash\\panda.jpg' # Replace with your image path\n",
    "image = Image.open(image_path)\n",
    "\n",
    "# Flip the image horizontally\n",
    "flipped_image = ImageOps.mirror(image)\n",
    "\n",
    "# Save the flipped image\n",
    "flipped_image.save('flipped_image.jpg')\n",
    "\n",
    "# Show the flipped image\n",
    "flipped_image.show()\n"
   ]
  },
  {
   "cell_type": "code",
   "execution_count": 5,
   "id": "954e8ec6-2b36-48d6-8776-03c31bce25bc",
   "metadata": {},
   "outputs": [
    {
     "name": "stdout",
     "output_type": "stream",
     "text": [
      "Filters applied and images saved.\n"
     ]
    }
   ],
   "source": [
    "from PIL import Image, ImageFilter\n",
    "\n",
    "def apply_filters(image_path, output_path_base):\n",
    "    # Open the image\n",
    "    image = Image.open(image_path)\n",
    "    \n",
    "    # Apply Blur filter\n",
    "    blurred_image = image.filter(ImageFilter.BLUR)\n",
    "    blurred_image.save(f'{output_path_base}_blurred.jpg')\n",
    "    \n",
    "    # Apply Contour filter\n",
    "    contour_image = image.filter(ImageFilter.CONTOUR)\n",
    "    contour_image.save(f'{output_path_base}_contour.jpg')\n",
    "    \n",
    "    # Apply Detail filter\n",
    "    detail_image = image.filter(ImageFilter.DETAIL)\n",
    "    detail_image.save(f'{output_path_base}_detail.jpg')\n",
    "    \n",
    "    # Apply Edge Enhance filter\n",
    "    edge_enhance_image = image.filter(ImageFilter.EDGE_ENHANCE)\n",
    "    edge_enhance_image.save(f'{output_path_base}_edge_enhance.jpg')\n",
    "    \n",
    "    # Apply Emboss filter\n",
    "    emboss_image = image.filter(ImageFilter.EMBOSS)\n",
    "    emboss_image.save(f'{output_path_base}_emboss.jpg')\n",
    "    \n",
    "    print(\"Filters applied and images saved.\")\n",
    "\n",
    "# Example usage\n",
    "image_path = r'C:\\Users\\Yashuyashash\\panda.jpg'\n",
    "output_path_base = 'filtered_image'\n",
    "apply_filters(image_path, output_path_base)"
   ]
  },
  {
   "cell_type": "code",
   "execution_count": null,
   "id": "fad5184b-6de3-424a-b9c3-fdd7a6ee0126",
   "metadata": {},
   "outputs": [],
   "source": []
  }
 ],
 "metadata": {
  "kernelspec": {
   "display_name": "Python 3 (ipykernel)",
   "language": "python",
   "name": "python3"
  },
  "language_info": {
   "codemirror_mode": {
    "name": "ipython",
    "version": 3
   },
   "file_extension": ".py",
   "mimetype": "text/x-python",
   "name": "python",
   "nbconvert_exporter": "python",
   "pygments_lexer": "ipython3",
   "version": "3.12.4"
  }
 },
 "nbformat": 4,
 "nbformat_minor": 5
}
